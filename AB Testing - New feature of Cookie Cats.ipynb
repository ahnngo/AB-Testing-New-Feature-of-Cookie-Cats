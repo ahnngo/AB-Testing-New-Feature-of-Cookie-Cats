{
 "cells": [
  {
   "cell_type": "markdown",
   "id": "3c1a0543",
   "metadata": {},
   "source": [
    "# Project Description"
   ]
  },
  {
   "cell_type": "markdown",
   "id": "d9f50bc0",
   "metadata": {},
   "source": [
    "Cookie Cats is a hugely popular mobile puzzle game developed by Tactile Entertainment. It's a classic \"connect three\" style puzzle game where the player must connect tiles of the same color in order to clear the board and win the level. It also features singing cats. We're not kidding!\n",
    "\n",
    "**As players progress through the game they will encounter gates that force them to wait some time before they can progress or make an in-app purchase. In this project, we will analyze the result of an A/B test where the first gate in Cookie Cats was moved from level 30 to level 40. In particular, we will analyze the impact on player retention and game rounds.**\n",
    "\n",
    "In this notebook, I do refer to an existing work of [EKREM BAYAR](https://www.kaggle.com/code/ekrembayar/a-b-testing-step-by-step-hypothesis-testing/notebook)"
   ]
  },
  {
   "cell_type": "code",
   "execution_count": 1,
   "id": "7b8a6c42",
   "metadata": {},
   "outputs": [],
   "source": [
    "import pandas as pd\n",
    "import numpy as np\n",
    "import seaborn as sns\n",
    "import matplotlib.pyplot as plt\n",
    "from scipy.stats import ttest_ind, shapiro, mannwhitneyu\n",
    "%matplotlib inline\n",
    "from IPython.display import Image\n",
    "from IPython.core.display import HTML\n",
    "import warnings\n",
    "warnings.filterwarnings(\"ignore\")\n",
    "warnings.simplefilter(action='ignore', category=FutureWarning)\n",
    "\n",
    "pd.set_option('display.max_columns', None)\n",
    "pd.options.display.float_format = '{:.4f}'.format"
   ]
  },
  {
   "cell_type": "code",
   "execution_count": 2,
   "id": "ab7aae2c",
   "metadata": {},
   "outputs": [
    {
     "data": {
      "text/html": [
       "<img src=\"https://tactilegames.com/wp-content/uploads/2018/05/cookie-cats.png\" width=\"600\" height=\"600\"/>"
      ],
      "text/plain": [
       "<IPython.core.display.Image object>"
      ]
     },
     "execution_count": 2,
     "metadata": {},
     "output_type": "execute_result"
    }
   ],
   "source": [
    "Image(url= \"https://tactilegames.com/wp-content/uploads/2018/05/cookie-cats.png\", width=600, height=600)"
   ]
  },
  {
   "cell_type": "markdown",
   "id": "a0aee9db",
   "metadata": {},
   "source": [
    "## 1. Feature Engineering"
   ]
  },
  {
   "cell_type": "code",
   "execution_count": 3,
   "id": "308d76b6",
   "metadata": {},
   "outputs": [],
   "source": [
    "df = pd.read_csv('cookie_cats.csv')"
   ]
  },
  {
   "cell_type": "code",
   "execution_count": 4,
   "id": "50844005",
   "metadata": {},
   "outputs": [
    {
     "data": {
      "text/html": [
       "<div>\n",
       "<style scoped>\n",
       "    .dataframe tbody tr th:only-of-type {\n",
       "        vertical-align: middle;\n",
       "    }\n",
       "\n",
       "    .dataframe tbody tr th {\n",
       "        vertical-align: top;\n",
       "    }\n",
       "\n",
       "    .dataframe thead th {\n",
       "        text-align: right;\n",
       "    }\n",
       "</style>\n",
       "<table border=\"1\" class=\"dataframe\">\n",
       "  <thead>\n",
       "    <tr style=\"text-align: right;\">\n",
       "      <th></th>\n",
       "      <th>userid</th>\n",
       "      <th>version</th>\n",
       "      <th>sum_gamerounds</th>\n",
       "      <th>retention_1</th>\n",
       "      <th>retention_7</th>\n",
       "    </tr>\n",
       "  </thead>\n",
       "  <tbody>\n",
       "    <tr>\n",
       "      <th>0</th>\n",
       "      <td>116</td>\n",
       "      <td>gate_30</td>\n",
       "      <td>3</td>\n",
       "      <td>False</td>\n",
       "      <td>False</td>\n",
       "    </tr>\n",
       "    <tr>\n",
       "      <th>1</th>\n",
       "      <td>337</td>\n",
       "      <td>gate_30</td>\n",
       "      <td>38</td>\n",
       "      <td>True</td>\n",
       "      <td>False</td>\n",
       "    </tr>\n",
       "    <tr>\n",
       "      <th>2</th>\n",
       "      <td>377</td>\n",
       "      <td>gate_40</td>\n",
       "      <td>165</td>\n",
       "      <td>True</td>\n",
       "      <td>False</td>\n",
       "    </tr>\n",
       "    <tr>\n",
       "      <th>3</th>\n",
       "      <td>483</td>\n",
       "      <td>gate_40</td>\n",
       "      <td>1</td>\n",
       "      <td>False</td>\n",
       "      <td>False</td>\n",
       "    </tr>\n",
       "    <tr>\n",
       "      <th>4</th>\n",
       "      <td>488</td>\n",
       "      <td>gate_40</td>\n",
       "      <td>179</td>\n",
       "      <td>True</td>\n",
       "      <td>True</td>\n",
       "    </tr>\n",
       "  </tbody>\n",
       "</table>\n",
       "</div>"
      ],
      "text/plain": [
       "   userid  version  sum_gamerounds  retention_1  retention_7\n",
       "0     116  gate_30               3        False        False\n",
       "1     337  gate_30              38         True        False\n",
       "2     377  gate_40             165         True        False\n",
       "3     483  gate_40               1        False        False\n",
       "4     488  gate_40             179         True         True"
      ]
     },
     "execution_count": 4,
     "metadata": {},
     "output_type": "execute_result"
    }
   ],
   "source": [
    "df.head()"
   ]
  },
  {
   "cell_type": "code",
   "execution_count": 5,
   "id": "91b5dd50",
   "metadata": {},
   "outputs": [],
   "source": [
    "df['retention_1'] = df['retention_1'].apply(lambda x: 1 if x == True else 0)"
   ]
  },
  {
   "cell_type": "code",
   "execution_count": 6,
   "id": "fb17624b",
   "metadata": {},
   "outputs": [],
   "source": [
    "df['retention_7'] = df['retention_7'].apply(lambda x: 1 if x == True else 0)"
   ]
  },
  {
   "cell_type": "code",
   "execution_count": 7,
   "id": "758cb120",
   "metadata": {},
   "outputs": [
    {
     "data": {
      "text/html": [
       "<div>\n",
       "<style scoped>\n",
       "    .dataframe tbody tr th:only-of-type {\n",
       "        vertical-align: middle;\n",
       "    }\n",
       "\n",
       "    .dataframe tbody tr th {\n",
       "        vertical-align: top;\n",
       "    }\n",
       "\n",
       "    .dataframe thead th {\n",
       "        text-align: right;\n",
       "    }\n",
       "</style>\n",
       "<table border=\"1\" class=\"dataframe\">\n",
       "  <thead>\n",
       "    <tr style=\"text-align: right;\">\n",
       "      <th></th>\n",
       "      <th>userid</th>\n",
       "      <th>version</th>\n",
       "      <th>sum_gamerounds</th>\n",
       "      <th>retention_1</th>\n",
       "      <th>retention_7</th>\n",
       "    </tr>\n",
       "  </thead>\n",
       "  <tbody>\n",
       "    <tr>\n",
       "      <th>0</th>\n",
       "      <td>116</td>\n",
       "      <td>gate_30</td>\n",
       "      <td>3</td>\n",
       "      <td>0</td>\n",
       "      <td>0</td>\n",
       "    </tr>\n",
       "    <tr>\n",
       "      <th>1</th>\n",
       "      <td>337</td>\n",
       "      <td>gate_30</td>\n",
       "      <td>38</td>\n",
       "      <td>1</td>\n",
       "      <td>0</td>\n",
       "    </tr>\n",
       "    <tr>\n",
       "      <th>2</th>\n",
       "      <td>377</td>\n",
       "      <td>gate_40</td>\n",
       "      <td>165</td>\n",
       "      <td>1</td>\n",
       "      <td>0</td>\n",
       "    </tr>\n",
       "    <tr>\n",
       "      <th>3</th>\n",
       "      <td>483</td>\n",
       "      <td>gate_40</td>\n",
       "      <td>1</td>\n",
       "      <td>0</td>\n",
       "      <td>0</td>\n",
       "    </tr>\n",
       "    <tr>\n",
       "      <th>4</th>\n",
       "      <td>488</td>\n",
       "      <td>gate_40</td>\n",
       "      <td>179</td>\n",
       "      <td>1</td>\n",
       "      <td>1</td>\n",
       "    </tr>\n",
       "  </tbody>\n",
       "</table>\n",
       "</div>"
      ],
      "text/plain": [
       "   userid  version  sum_gamerounds  retention_1  retention_7\n",
       "0     116  gate_30               3            0            0\n",
       "1     337  gate_30              38            1            0\n",
       "2     377  gate_40             165            1            0\n",
       "3     483  gate_40               1            0            0\n",
       "4     488  gate_40             179            1            1"
      ]
     },
     "execution_count": 7,
     "metadata": {},
     "output_type": "execute_result"
    }
   ],
   "source": [
    "df.head()"
   ]
  },
  {
   "cell_type": "code",
   "execution_count": 8,
   "id": "4d5b27e6",
   "metadata": {},
   "outputs": [
    {
     "data": {
      "text/html": [
       "<div>\n",
       "<style scoped>\n",
       "    .dataframe tbody tr th:only-of-type {\n",
       "        vertical-align: middle;\n",
       "    }\n",
       "\n",
       "    .dataframe tbody tr th {\n",
       "        vertical-align: top;\n",
       "    }\n",
       "\n",
       "    .dataframe thead th {\n",
       "        text-align: right;\n",
       "    }\n",
       "</style>\n",
       "<table border=\"1\" class=\"dataframe\">\n",
       "  <thead>\n",
       "    <tr style=\"text-align: right;\">\n",
       "      <th></th>\n",
       "      <th>userid</th>\n",
       "      <th>sum_gamerounds</th>\n",
       "      <th>retention_1</th>\n",
       "      <th>retention_7</th>\n",
       "    </tr>\n",
       "  </thead>\n",
       "  <tbody>\n",
       "    <tr>\n",
       "      <th>count</th>\n",
       "      <td>90189.0000</td>\n",
       "      <td>90189.0000</td>\n",
       "      <td>90189.0000</td>\n",
       "      <td>90189.0000</td>\n",
       "    </tr>\n",
       "    <tr>\n",
       "      <th>mean</th>\n",
       "      <td>4998412.2345</td>\n",
       "      <td>51.8725</td>\n",
       "      <td>0.4452</td>\n",
       "      <td>0.1861</td>\n",
       "    </tr>\n",
       "    <tr>\n",
       "      <th>std</th>\n",
       "      <td>2883285.6077</td>\n",
       "      <td>195.0509</td>\n",
       "      <td>0.4970</td>\n",
       "      <td>0.3892</td>\n",
       "    </tr>\n",
       "    <tr>\n",
       "      <th>min</th>\n",
       "      <td>116.0000</td>\n",
       "      <td>0.0000</td>\n",
       "      <td>0.0000</td>\n",
       "      <td>0.0000</td>\n",
       "    </tr>\n",
       "    <tr>\n",
       "      <th>25%</th>\n",
       "      <td>2512230.0000</td>\n",
       "      <td>5.0000</td>\n",
       "      <td>0.0000</td>\n",
       "      <td>0.0000</td>\n",
       "    </tr>\n",
       "    <tr>\n",
       "      <th>50%</th>\n",
       "      <td>4995815.0000</td>\n",
       "      <td>16.0000</td>\n",
       "      <td>0.0000</td>\n",
       "      <td>0.0000</td>\n",
       "    </tr>\n",
       "    <tr>\n",
       "      <th>75%</th>\n",
       "      <td>7496452.0000</td>\n",
       "      <td>51.0000</td>\n",
       "      <td>1.0000</td>\n",
       "      <td>0.0000</td>\n",
       "    </tr>\n",
       "    <tr>\n",
       "      <th>max</th>\n",
       "      <td>9999861.0000</td>\n",
       "      <td>49854.0000</td>\n",
       "      <td>1.0000</td>\n",
       "      <td>1.0000</td>\n",
       "    </tr>\n",
       "  </tbody>\n",
       "</table>\n",
       "</div>"
      ],
      "text/plain": [
       "            userid  sum_gamerounds  retention_1  retention_7\n",
       "count   90189.0000      90189.0000   90189.0000   90189.0000\n",
       "mean  4998412.2345         51.8725       0.4452       0.1861\n",
       "std   2883285.6077        195.0509       0.4970       0.3892\n",
       "min       116.0000          0.0000       0.0000       0.0000\n",
       "25%   2512230.0000          5.0000       0.0000       0.0000\n",
       "50%   4995815.0000         16.0000       0.0000       0.0000\n",
       "75%   7496452.0000         51.0000       1.0000       0.0000\n",
       "max   9999861.0000      49854.0000       1.0000       1.0000"
      ]
     },
     "execution_count": 8,
     "metadata": {},
     "output_type": "execute_result"
    }
   ],
   "source": [
    "df.describe()"
   ]
  },
  {
   "cell_type": "markdown",
   "id": "08744e8b",
   "metadata": {},
   "source": [
    "The data is from 90,189 players that installed the game while the AB-test was running. The variables are:\n",
    "\n",
    "* userid - a unique number that identifies each player.\n",
    "* version - whether the player was put in the control group (gate_30 - a gate at level 30) or the test group (gate_40 - a gate at level 40).\n",
    "* sum_gamerounds - the number of game rounds played by the player during the first week after installation\n",
    "* retention_1 - did the player come back and play 1 day after installing?\n",
    "* retention_7 - did the player come back and play 7 days after installing?\n",
    "\n",
    "When a player installed the game, he or she was randomly assigned to either gate_30 or gate_40."
   ]
  },
  {
   "cell_type": "markdown",
   "id": "480e8033",
   "metadata": {},
   "source": [
    "*From the description, it has shown that around 44% of players come back after 1 day the feature was released. However, the ratio dropped down to 18% after 7 days.*"
   ]
  },
  {
   "cell_type": "code",
   "execution_count": 9,
   "id": "228a7a65",
   "metadata": {},
   "outputs": [
    {
     "data": {
      "text/html": [
       "<div>\n",
       "<style scoped>\n",
       "    .dataframe tbody tr th:only-of-type {\n",
       "        vertical-align: middle;\n",
       "    }\n",
       "\n",
       "    .dataframe tbody tr th {\n",
       "        vertical-align: top;\n",
       "    }\n",
       "\n",
       "    .dataframe thead th {\n",
       "        text-align: right;\n",
       "    }\n",
       "</style>\n",
       "<table border=\"1\" class=\"dataframe\">\n",
       "  <thead>\n",
       "    <tr style=\"text-align: right;\">\n",
       "      <th></th>\n",
       "      <th>count</th>\n",
       "      <th>mean</th>\n",
       "      <th>std</th>\n",
       "      <th>min</th>\n",
       "      <th>1%</th>\n",
       "      <th>5%</th>\n",
       "      <th>10%</th>\n",
       "      <th>20%</th>\n",
       "      <th>50%</th>\n",
       "      <th>80%</th>\n",
       "      <th>90%</th>\n",
       "      <th>95%</th>\n",
       "      <th>99%</th>\n",
       "      <th>max</th>\n",
       "    </tr>\n",
       "  </thead>\n",
       "  <tbody>\n",
       "    <tr>\n",
       "      <th>sum_gamerounds</th>\n",
       "      <td>90189.0000</td>\n",
       "      <td>51.8725</td>\n",
       "      <td>195.0509</td>\n",
       "      <td>0.0000</td>\n",
       "      <td>0.0000</td>\n",
       "      <td>1.0000</td>\n",
       "      <td>1.0000</td>\n",
       "      <td>3.0000</td>\n",
       "      <td>16.0000</td>\n",
       "      <td>67.0000</td>\n",
       "      <td>134.0000</td>\n",
       "      <td>221.0000</td>\n",
       "      <td>493.0000</td>\n",
       "      <td>49854.0000</td>\n",
       "    </tr>\n",
       "  </tbody>\n",
       "</table>\n",
       "</div>"
      ],
      "text/plain": [
       "                    count    mean      std    min     1%     5%    10%    20%  \\\n",
       "sum_gamerounds 90189.0000 51.8725 195.0509 0.0000 0.0000 1.0000 1.0000 3.0000   \n",
       "\n",
       "                   50%     80%      90%      95%      99%        max  \n",
       "sum_gamerounds 16.0000 67.0000 134.0000 221.0000 493.0000 49854.0000  "
      ]
     },
     "execution_count": 9,
     "metadata": {},
     "output_type": "execute_result"
    }
   ],
   "source": [
    "df.describe([0.01, 0.05, 0.10, 0.20, 0.80, 0.90, 0.95, 0.99])[[\"sum_gamerounds\"]].transpose()"
   ]
  },
  {
   "cell_type": "markdown",
   "id": "4b453d94",
   "metadata": {},
   "source": [
    "We can see that there are extreme values in the dataset. We want to exclude them out before any further calculation"
   ]
  },
  {
   "cell_type": "code",
   "execution_count": 10,
   "id": "091a30a1",
   "metadata": {},
   "outputs": [
    {
     "data": {
      "text/html": [
       "<div>\n",
       "<style scoped>\n",
       "    .dataframe tbody tr th:only-of-type {\n",
       "        vertical-align: middle;\n",
       "    }\n",
       "\n",
       "    .dataframe tbody tr th {\n",
       "        vertical-align: top;\n",
       "    }\n",
       "\n",
       "    .dataframe thead th {\n",
       "        text-align: right;\n",
       "    }\n",
       "</style>\n",
       "<table border=\"1\" class=\"dataframe\">\n",
       "  <thead>\n",
       "    <tr style=\"text-align: right;\">\n",
       "      <th></th>\n",
       "      <th>count</th>\n",
       "      <th>mean</th>\n",
       "      <th>std</th>\n",
       "      <th>min</th>\n",
       "      <th>25%</th>\n",
       "      <th>50%</th>\n",
       "      <th>75%</th>\n",
       "      <th>max</th>\n",
       "    </tr>\n",
       "    <tr>\n",
       "      <th>version</th>\n",
       "      <th></th>\n",
       "      <th></th>\n",
       "      <th></th>\n",
       "      <th></th>\n",
       "      <th></th>\n",
       "      <th></th>\n",
       "      <th></th>\n",
       "      <th></th>\n",
       "    </tr>\n",
       "  </thead>\n",
       "  <tbody>\n",
       "    <tr>\n",
       "      <th>gate_30</th>\n",
       "      <td>44700.0000</td>\n",
       "      <td>52.4563</td>\n",
       "      <td>256.7164</td>\n",
       "      <td>0.0000</td>\n",
       "      <td>5.0000</td>\n",
       "      <td>17.0000</td>\n",
       "      <td>50.0000</td>\n",
       "      <td>49854.0000</td>\n",
       "    </tr>\n",
       "    <tr>\n",
       "      <th>gate_40</th>\n",
       "      <td>45489.0000</td>\n",
       "      <td>51.2988</td>\n",
       "      <td>103.2944</td>\n",
       "      <td>0.0000</td>\n",
       "      <td>5.0000</td>\n",
       "      <td>16.0000</td>\n",
       "      <td>52.0000</td>\n",
       "      <td>2640.0000</td>\n",
       "    </tr>\n",
       "  </tbody>\n",
       "</table>\n",
       "</div>"
      ],
      "text/plain": [
       "             count    mean      std    min    25%     50%     75%        max\n",
       "version                                                                     \n",
       "gate_30 44700.0000 52.4563 256.7164 0.0000 5.0000 17.0000 50.0000 49854.0000\n",
       "gate_40 45489.0000 51.2988 103.2944 0.0000 5.0000 16.0000 52.0000  2640.0000"
      ]
     },
     "execution_count": 10,
     "metadata": {},
     "output_type": "execute_result"
    }
   ],
   "source": [
    "df.groupby('version').describe()['sum_gamerounds']"
   ]
  },
  {
   "cell_type": "code",
   "execution_count": 11,
   "id": "ed77c828",
   "metadata": {},
   "outputs": [
    {
     "data": {
      "text/plain": [
       "userid            2\n",
       "version           2\n",
       "sum_gamerounds    2\n",
       "retention_1       2\n",
       "retention_7       2\n",
       "dtype: int64"
      ]
     },
     "execution_count": 11,
     "metadata": {},
     "output_type": "execute_result"
    }
   ],
   "source": [
    "# Number of extreme sum_gamerounds which is greater than the max of the treatment group\n",
    "df.query('sum_gamerounds > 2640').count()"
   ]
  },
  {
   "cell_type": "code",
   "execution_count": 12,
   "id": "5ff89fa5",
   "metadata": {},
   "outputs": [
    {
     "data": {
      "text/plain": [
       "userid            3994\n",
       "version           3994\n",
       "sum_gamerounds    3994\n",
       "retention_1       3994\n",
       "retention_7       3994\n",
       "dtype: int64"
      ]
     },
     "execution_count": 12,
     "metadata": {},
     "output_type": "execute_result"
    }
   ],
   "source": [
    "# Number of users downloaded the game but never play it\n",
    "df.query('sum_gamerounds == 0').count()"
   ]
  },
  {
   "cell_type": "code",
   "execution_count": 13,
   "id": "09e86cf5",
   "metadata": {},
   "outputs": [
    {
     "data": {
      "image/png": "[encoded data removed]",
      "text/plain": [
       "<Figure size 1296x360 with 3 Axes>"
      ]
     },
     "metadata": {
      "needs_background": "light"
     },
     "output_type": "display_data"
    }
   ],
   "source": [
    "fig, axes = plt.subplots(1, 3, figsize = (18,5))\n",
    "\n",
    "df.query('version == \"gate_30\"').hist(\"sum_gamerounds\", ax = axes[0], color = \"steelblue\")\n",
    "df.query('version == \"gate_40\"').hist(\"sum_gamerounds\", ax = axes[1], color = \"steelblue\")\n",
    "sns.boxplot(x ='version', y = 'sum_gamerounds', data=df, ax = axes[2])\n",
    "\n",
    "plt.suptitle(\"Before Removing The Extreme Value\", fontsize = 20)\n",
    "axes[0].set_title(\"Distribution of Gate 30 (A)\", fontsize = 15)\n",
    "axes[1].set_title(\"Distribution of Gate 40 (B)\", fontsize = 15)\n",
    "axes[2].set_title(\"Distribution of Two Groups\", fontsize = 15)\n",
    "\n",
    "plt.tight_layout(pad = 1);"
   ]
  },
  {
   "cell_type": "markdown",
   "id": "b70a8072",
   "metadata": {},
   "source": [
    "We will treat outliers by removing all sum_gamerounds value > 2640 and sum_gamerounds value == 0"
   ]
  },
  {
   "cell_type": "code",
   "execution_count": 14,
   "id": "a21a4709",
   "metadata": {},
   "outputs": [],
   "source": [
    "df = df.query('sum_gamerounds > 0 and sum_gamerounds <= 2640')"
   ]
  },
  {
   "cell_type": "code",
   "execution_count": 15,
   "id": "7d98d9eb",
   "metadata": {},
   "outputs": [
    {
     "data": {
      "image/png": "[encoded data removed]",
      "text/plain": [
       "<Figure size 1296x360 with 3 Axes>"
      ]
     },
     "metadata": {
      "needs_background": "light"
     },
     "output_type": "display_data"
    }
   ],
   "source": [
    "fig, axes = plt.subplots(1, 3, figsize = (18,5))\n",
    "\n",
    "df.query('version == \"gate_30\"').hist(\"sum_gamerounds\", ax = axes[0], color = \"steelblue\")\n",
    "df.query('version == \"gate_40\"').hist(\"sum_gamerounds\", ax = axes[1], color = \"steelblue\")\n",
    "sns.boxplot(x ='version', y = 'sum_gamerounds', data=df, ax = axes[2])\n",
    "\n",
    "plt.suptitle(\"After Removing The Extreme Value\", fontsize = 20)\n",
    "axes[0].set_title(\"Distribution of Gate 30 (A)\", fontsize = 15)\n",
    "axes[1].set_title(\"Distribution of Gate 40 (B)\", fontsize = 15)\n",
    "axes[2].set_title(\"Distribution of Two Groups\", fontsize = 15)\n",
    "\n",
    "plt.tight_layout(pad = 1);"
   ]
  },
  {
   "cell_type": "code",
   "execution_count": 16,
   "id": "e7619c85",
   "metadata": {},
   "outputs": [
    {
     "data": {
      "image/png": "[encoded data removed]",
      "text/plain": [
       "<Figure size 1800x720 with 2 Axes>"
      ]
     },
     "metadata": {
      "needs_background": "light"
     },
     "output_type": "display_data"
    }
   ],
   "source": [
    "# User retention as levels go up\n",
    "fig, axes = plt.subplots(2, 1, figsize = (25,10))\n",
    "df.groupby('sum_gamerounds')['userid'].count().plot(ax = axes[0])\n",
    "df.groupby('sum_gamerounds')['userid'].count()[:200].plot(ax = axes[1])\n",
    "plt.suptitle(\"The number of users in the game rounds played\", fontsize = 25)\n",
    "axes[0].set_title(\"Numbers of user for all rounds\", fontsize = 15)\n",
    "axes[1].set_title(\"Numbers of user for the 200 first rounds\", fontsize = 15)\n",
    "plt.tight_layout(pad=1);"
   ]
  },
  {
   "cell_type": "markdown",
   "id": "241dcfff",
   "metadata": {},
   "source": [
    "**We can see that users tend to lose their interest in the game as the game gets harder.**"
   ]
  },
  {
   "cell_type": "code",
   "execution_count": 17,
   "id": "dc7aeeca",
   "metadata": {},
   "outputs": [
    {
     "data": {
      "text/html": [
       "<div>\n",
       "<style scoped>\n",
       "    .dataframe tbody tr th:only-of-type {\n",
       "        vertical-align: middle;\n",
       "    }\n",
       "\n",
       "    .dataframe tbody tr th {\n",
       "        vertical-align: top;\n",
       "    }\n",
       "\n",
       "    .dataframe thead th {\n",
       "        text-align: right;\n",
       "    }\n",
       "</style>\n",
       "<table border=\"1\" class=\"dataframe\">\n",
       "  <thead>\n",
       "    <tr style=\"text-align: right;\">\n",
       "      <th></th>\n",
       "      <th>count</th>\n",
       "      <th>mean</th>\n",
       "      <th>std</th>\n",
       "      <th>min</th>\n",
       "      <th>25%</th>\n",
       "      <th>50%</th>\n",
       "      <th>75%</th>\n",
       "      <th>max</th>\n",
       "    </tr>\n",
       "    <tr>\n",
       "      <th>version</th>\n",
       "      <th></th>\n",
       "      <th></th>\n",
       "      <th></th>\n",
       "      <th></th>\n",
       "      <th></th>\n",
       "      <th></th>\n",
       "      <th></th>\n",
       "      <th></th>\n",
       "    </tr>\n",
       "  </thead>\n",
       "  <tbody>\n",
       "    <tr>\n",
       "      <th>gate_30</th>\n",
       "      <td>42761.0000</td>\n",
       "      <td>53.5998</td>\n",
       "      <td>102.7878</td>\n",
       "      <td>1.0000</td>\n",
       "      <td>6.0000</td>\n",
       "      <td>18.0000</td>\n",
       "      <td>53.0000</td>\n",
       "      <td>2438.0000</td>\n",
       "    </tr>\n",
       "    <tr>\n",
       "      <th>gate_40</th>\n",
       "      <td>43432.0000</td>\n",
       "      <td>53.7284</td>\n",
       "      <td>105.0930</td>\n",
       "      <td>1.0000</td>\n",
       "      <td>6.0000</td>\n",
       "      <td>18.0000</td>\n",
       "      <td>55.0000</td>\n",
       "      <td>2640.0000</td>\n",
       "    </tr>\n",
       "  </tbody>\n",
       "</table>\n",
       "</div>"
      ],
      "text/plain": [
       "             count    mean      std    min    25%     50%     75%       max\n",
       "version                                                                    \n",
       "gate_30 42761.0000 53.5998 102.7878 1.0000 6.0000 18.0000 53.0000 2438.0000\n",
       "gate_40 43432.0000 53.7284 105.0930 1.0000 6.0000 18.0000 55.0000 2640.0000"
      ]
     },
     "execution_count": 17,
     "metadata": {},
     "output_type": "execute_result"
    }
   ],
   "source": [
    "df.groupby('version').describe()['sum_gamerounds']"
   ]
  },
  {
   "cell_type": "code",
   "execution_count": 18,
   "id": "2c18b3e8",
   "metadata": {},
   "outputs": [
    {
     "data": {
      "text/html": [
       "<div>\n",
       "<style scoped>\n",
       "    .dataframe tbody tr th:only-of-type {\n",
       "        vertical-align: middle;\n",
       "    }\n",
       "\n",
       "    .dataframe tbody tr th {\n",
       "        vertical-align: top;\n",
       "    }\n",
       "\n",
       "    .dataframe thead th {\n",
       "        text-align: right;\n",
       "    }\n",
       "</style>\n",
       "<table border=\"1\" class=\"dataframe\">\n",
       "  <thead>\n",
       "    <tr style=\"text-align: right;\">\n",
       "      <th></th>\n",
       "      <th>count</th>\n",
       "      <th>mean</th>\n",
       "      <th>std</th>\n",
       "      <th>min</th>\n",
       "      <th>25%</th>\n",
       "      <th>50%</th>\n",
       "      <th>75%</th>\n",
       "      <th>max</th>\n",
       "    </tr>\n",
       "    <tr>\n",
       "      <th>version</th>\n",
       "      <th></th>\n",
       "      <th></th>\n",
       "      <th></th>\n",
       "      <th></th>\n",
       "      <th></th>\n",
       "      <th></th>\n",
       "      <th></th>\n",
       "      <th></th>\n",
       "    </tr>\n",
       "  </thead>\n",
       "  <tbody>\n",
       "    <tr>\n",
       "      <th>gate_30</th>\n",
       "      <td>42761.0000</td>\n",
       "      <td>0.4675</td>\n",
       "      <td>0.4990</td>\n",
       "      <td>0.0000</td>\n",
       "      <td>0.0000</td>\n",
       "      <td>0.0000</td>\n",
       "      <td>1.0000</td>\n",
       "      <td>1.0000</td>\n",
       "    </tr>\n",
       "    <tr>\n",
       "      <th>gate_40</th>\n",
       "      <td>43432.0000</td>\n",
       "      <td>0.4622</td>\n",
       "      <td>0.4986</td>\n",
       "      <td>0.0000</td>\n",
       "      <td>0.0000</td>\n",
       "      <td>0.0000</td>\n",
       "      <td>1.0000</td>\n",
       "      <td>1.0000</td>\n",
       "    </tr>\n",
       "  </tbody>\n",
       "</table>\n",
       "</div>"
      ],
      "text/plain": [
       "             count   mean    std    min    25%    50%    75%    max\n",
       "version                                                            \n",
       "gate_30 42761.0000 0.4675 0.4990 0.0000 0.0000 0.0000 1.0000 1.0000\n",
       "gate_40 43432.0000 0.4622 0.4986 0.0000 0.0000 0.0000 1.0000 1.0000"
      ]
     },
     "execution_count": 18,
     "metadata": {},
     "output_type": "execute_result"
    }
   ],
   "source": [
    "df.groupby('version').describe()['retention_1']"
   ]
  },
  {
   "cell_type": "code",
   "execution_count": 19,
   "id": "1c119811",
   "metadata": {},
   "outputs": [
    {
     "data": {
      "text/html": [
       "<div>\n",
       "<style scoped>\n",
       "    .dataframe tbody tr th:only-of-type {\n",
       "        vertical-align: middle;\n",
       "    }\n",
       "\n",
       "    .dataframe tbody tr th {\n",
       "        vertical-align: top;\n",
       "    }\n",
       "\n",
       "    .dataframe thead th {\n",
       "        text-align: right;\n",
       "    }\n",
       "</style>\n",
       "<table border=\"1\" class=\"dataframe\">\n",
       "  <thead>\n",
       "    <tr style=\"text-align: right;\">\n",
       "      <th></th>\n",
       "      <th>count</th>\n",
       "      <th>mean</th>\n",
       "      <th>std</th>\n",
       "      <th>min</th>\n",
       "      <th>25%</th>\n",
       "      <th>50%</th>\n",
       "      <th>75%</th>\n",
       "      <th>max</th>\n",
       "    </tr>\n",
       "    <tr>\n",
       "      <th>version</th>\n",
       "      <th></th>\n",
       "      <th></th>\n",
       "      <th></th>\n",
       "      <th></th>\n",
       "      <th></th>\n",
       "      <th></th>\n",
       "      <th></th>\n",
       "      <th></th>\n",
       "    </tr>\n",
       "  </thead>\n",
       "  <tbody>\n",
       "    <tr>\n",
       "      <th>gate_30</th>\n",
       "      <td>42761.0000</td>\n",
       "      <td>0.1984</td>\n",
       "      <td>0.3988</td>\n",
       "      <td>0.0000</td>\n",
       "      <td>0.0000</td>\n",
       "      <td>0.0000</td>\n",
       "      <td>0.0000</td>\n",
       "      <td>1.0000</td>\n",
       "    </tr>\n",
       "    <tr>\n",
       "      <th>gate_40</th>\n",
       "      <td>43432.0000</td>\n",
       "      <td>0.1903</td>\n",
       "      <td>0.3926</td>\n",
       "      <td>0.0000</td>\n",
       "      <td>0.0000</td>\n",
       "      <td>0.0000</td>\n",
       "      <td>0.0000</td>\n",
       "      <td>1.0000</td>\n",
       "    </tr>\n",
       "  </tbody>\n",
       "</table>\n",
       "</div>"
      ],
      "text/plain": [
       "             count   mean    std    min    25%    50%    75%    max\n",
       "version                                                            \n",
       "gate_30 42761.0000 0.1984 0.3988 0.0000 0.0000 0.0000 0.0000 1.0000\n",
       "gate_40 43432.0000 0.1903 0.3926 0.0000 0.0000 0.0000 0.0000 1.0000"
      ]
     },
     "execution_count": 19,
     "metadata": {},
     "output_type": "execute_result"
    }
   ],
   "source": [
    "df.groupby('version').describe()['retention_7']"
   ]
  },
  {
   "cell_type": "markdown",
   "id": "8341b859",
   "metadata": {},
   "source": [
    "Looking at the summary statistics of retention variables by version and comparing with sum_gamerounds, there are similarities between groups"
   ]
  },
  {
   "cell_type": "markdown",
   "id": "43f2d01d",
   "metadata": {},
   "source": [
    "# 2. A/B Testing"
   ]
  },
  {
   "cell_type": "markdown",
   "id": "c84fa7f4",
   "metadata": {},
   "source": [
    "### Test whether there is a change in terms of sum_gamerounds\n",
    "H0: There **is no** different between the control and treatment group\n",
    "\n",
    "H1: There **is** different between the control and treatment group"
   ]
  },
  {
   "cell_type": "markdown",
   "id": "b57c7e13",
   "metadata": {},
   "source": [
    "Based on the visualization of sum_gamerounds separated by version, it does not appear that the data is normally distributed. T-test may not be a good testing method here. We will check the normality of data using the Shapiro-Wilks Normality Test to make sure our assumption is correct."
   ]
  },
  {
   "cell_type": "code",
   "execution_count": 20,
   "id": "25aa4b7d",
   "metadata": {},
   "outputs": [],
   "source": [
    "control = df.query('version == \"gate_30\"')['sum_gamerounds']"
   ]
  },
  {
   "cell_type": "code",
   "execution_count": 21,
   "id": "577589d4",
   "metadata": {},
   "outputs": [],
   "source": [
    "treatment = df.query('version == \"gate_40\"')['sum_gamerounds']"
   ]
  },
  {
   "cell_type": "code",
   "execution_count": 22,
   "id": "0320b9f0",
   "metadata": {},
   "outputs": [
    {
     "name": "stdout",
     "output_type": "stream",
     "text": [
      "p-value for control-group normality: 0.0\n"
     ]
    }
   ],
   "source": [
    "print('p-value for control-group normality:',shapiro(control)[1])"
   ]
  },
  {
   "cell_type": "code",
   "execution_count": 23,
   "id": "a96e0d28",
   "metadata": {},
   "outputs": [
    {
     "name": "stdout",
     "output_type": "stream",
     "text": [
      "p-value for test-group normality: 0.0\n"
     ]
    }
   ],
   "source": [
    "print('p-value for test-group normality:',shapiro(treatment)[1])"
   ]
  },
  {
   "cell_type": "markdown",
   "id": "005434f0",
   "metadata": {},
   "source": [
    "**None of the groups is normally distributed. As a result, instead of using the T-test, we will conduct Mann Whitney U test**"
   ]
  },
  {
   "cell_type": "code",
   "execution_count": 24,
   "id": "6737a252",
   "metadata": {},
   "outputs": [
    {
     "data": {
      "text/plain": [
       "0.05953130903983879"
      ]
     },
     "execution_count": 24,
     "metadata": {},
     "output_type": "execute_result"
    }
   ],
   "source": [
    "res = mannwhitneyu(control, treatment)[1]\n",
    "res"
   ]
  },
  {
   "cell_type": "markdown",
   "id": "17e16bd1",
   "metadata": {},
   "source": [
    "With this p-value, we **fail to reject the null hypothesis at 5% significance**. However, we **can reject the significance level at 10% significance**."
   ]
  },
  {
   "cell_type": "markdown",
   "id": "4012ed5f",
   "metadata": {},
   "source": [
    "## Test whether there is a change in terms of retention"
   ]
  },
  {
   "cell_type": "code",
   "execution_count": 25,
   "id": "3321fb99",
   "metadata": {},
   "outputs": [
    {
     "data": {
      "text/html": [
       "<div>\n",
       "<style scoped>\n",
       "    .dataframe tbody tr th:only-of-type {\n",
       "        vertical-align: middle;\n",
       "    }\n",
       "\n",
       "    .dataframe tbody tr th {\n",
       "        vertical-align: top;\n",
       "    }\n",
       "\n",
       "    .dataframe thead tr th {\n",
       "        text-align: left;\n",
       "    }\n",
       "\n",
       "    .dataframe thead tr:last-of-type th {\n",
       "        text-align: right;\n",
       "    }\n",
       "</style>\n",
       "<table border=\"1\" class=\"dataframe\">\n",
       "  <thead>\n",
       "    <tr>\n",
       "      <th></th>\n",
       "      <th colspan=\"8\" halign=\"left\">retention_1</th>\n",
       "      <th colspan=\"8\" halign=\"left\">retention_7</th>\n",
       "    </tr>\n",
       "    <tr>\n",
       "      <th></th>\n",
       "      <th>count</th>\n",
       "      <th>mean</th>\n",
       "      <th>std</th>\n",
       "      <th>min</th>\n",
       "      <th>25%</th>\n",
       "      <th>50%</th>\n",
       "      <th>75%</th>\n",
       "      <th>max</th>\n",
       "      <th>count</th>\n",
       "      <th>mean</th>\n",
       "      <th>std</th>\n",
       "      <th>min</th>\n",
       "      <th>25%</th>\n",
       "      <th>50%</th>\n",
       "      <th>75%</th>\n",
       "      <th>max</th>\n",
       "    </tr>\n",
       "    <tr>\n",
       "      <th>version</th>\n",
       "      <th></th>\n",
       "      <th></th>\n",
       "      <th></th>\n",
       "      <th></th>\n",
       "      <th></th>\n",
       "      <th></th>\n",
       "      <th></th>\n",
       "      <th></th>\n",
       "      <th></th>\n",
       "      <th></th>\n",
       "      <th></th>\n",
       "      <th></th>\n",
       "      <th></th>\n",
       "      <th></th>\n",
       "      <th></th>\n",
       "      <th></th>\n",
       "    </tr>\n",
       "  </thead>\n",
       "  <tbody>\n",
       "    <tr>\n",
       "      <th>gate_30</th>\n",
       "      <td>42761.0000</td>\n",
       "      <td>0.4675</td>\n",
       "      <td>0.4990</td>\n",
       "      <td>0.0000</td>\n",
       "      <td>0.0000</td>\n",
       "      <td>0.0000</td>\n",
       "      <td>1.0000</td>\n",
       "      <td>1.0000</td>\n",
       "      <td>42761.0000</td>\n",
       "      <td>0.1984</td>\n",
       "      <td>0.3988</td>\n",
       "      <td>0.0000</td>\n",
       "      <td>0.0000</td>\n",
       "      <td>0.0000</td>\n",
       "      <td>0.0000</td>\n",
       "      <td>1.0000</td>\n",
       "    </tr>\n",
       "    <tr>\n",
       "      <th>gate_40</th>\n",
       "      <td>43432.0000</td>\n",
       "      <td>0.4622</td>\n",
       "      <td>0.4986</td>\n",
       "      <td>0.0000</td>\n",
       "      <td>0.0000</td>\n",
       "      <td>0.0000</td>\n",
       "      <td>1.0000</td>\n",
       "      <td>1.0000</td>\n",
       "      <td>43432.0000</td>\n",
       "      <td>0.1903</td>\n",
       "      <td>0.3926</td>\n",
       "      <td>0.0000</td>\n",
       "      <td>0.0000</td>\n",
       "      <td>0.0000</td>\n",
       "      <td>0.0000</td>\n",
       "      <td>1.0000</td>\n",
       "    </tr>\n",
       "  </tbody>\n",
       "</table>\n",
       "</div>"
      ],
      "text/plain": [
       "        retention_1                                                   \\\n",
       "              count   mean    std    min    25%    50%    75%    max   \n",
       "version                                                                \n",
       "gate_30  42761.0000 0.4675 0.4990 0.0000 0.0000 0.0000 1.0000 1.0000   \n",
       "gate_40  43432.0000 0.4622 0.4986 0.0000 0.0000 0.0000 1.0000 1.0000   \n",
       "\n",
       "        retention_7                                                   \n",
       "              count   mean    std    min    25%    50%    75%    max  \n",
       "version                                                               \n",
       "gate_30  42761.0000 0.1984 0.3988 0.0000 0.0000 0.0000 0.0000 1.0000  \n",
       "gate_40  43432.0000 0.1903 0.3926 0.0000 0.0000 0.0000 0.0000 1.0000  "
      ]
     },
     "execution_count": 25,
     "metadata": {},
     "output_type": "execute_result"
    }
   ],
   "source": [
    "df.groupby('version').describe()[['retention_1','retention_7']]"
   ]
  },
  {
   "cell_type": "markdown",
   "id": "20ab43f4",
   "metadata": {},
   "source": [
    "**We can see that there is a difference in terms of the mean value of retention. However, it is not too obvious that we can conclude anything out of that.**"
   ]
  },
  {
   "cell_type": "markdown",
   "id": "de7e4cfe",
   "metadata": {},
   "source": [
    "# 3. Conclusion"
   ]
  },
  {
   "cell_type": "markdown",
   "id": "12d39a17",
   "metadata": {},
   "source": [
    "## General Comment"
   ]
  },
  {
   "cell_type": "markdown",
   "id": "6ce8e107",
   "metadata": {},
   "source": [
    "There is a huge decrease in terms of retention as the difficulty of the game keeps increasing. This could be attributed to several reasons\n",
    "* When the user reaches around round 150, the difficulty gets massively harder, making it more challenging for users to follow along\n",
    "* There may be a trade-off between purchases and chance of moving to the next level, which means if the users do not purchase new functions/skins/skills, they will not likely to get through. This may help the producers have more financial benefits, but at the same time decrease users' retention to the game\n",
    "* There is a novelty effect, which the users appear interested to the game at first, then their interest decreases overtime, which is expected\n",
    "\n",
    " **We should work along with the User Experience Research Team to be able to figure out what happens to give out suitable solution**"
   ]
  },
  {
   "cell_type": "markdown",
   "id": "32ae0a05",
   "metadata": {},
   "source": [
    "## A/B Testing Discussion"
   ]
  },
  {
   "cell_type": "markdown",
   "id": "3eb20f84",
   "metadata": {},
   "source": [
    "Recall the Business Problem:\n",
    "\n",
    "**As players progress through the game they will encounter gates that force them to wait some time before they can progress or make an in-app purchase. In this project, we will analyze the result of an A/B test where the first gate in Cookie Cats was moved from level 30 to level 40. In particular, we will analyze the impact on player retention and game rounds.**"
   ]
  },
  {
   "cell_type": "markdown",
   "id": "97aa93f0",
   "metadata": {},
   "source": [
    "* In terms of difference of users' retention over game round, there is not statistical proof to conclude that changing the first gate from level 30 to level 40 would make any difference. I suggest game developers should run the test on a longer time to see more obvious results. If the test was run on a long enough period, then the result indicates that new feature does not really contribute as much, thus our A/B test is unsuccessful. "
   ]
  },
  {
   "cell_type": "markdown",
   "id": "321efd3f",
   "metadata": {},
   "source": [
    "* In terms of retention after 1 day and 7 days, there is also not enough statistical proof to conclude that new feature will keep users stay with the game longer. Both control and treatment group produce the similar mean with similar standard deviation. "
   ]
  },
  {
   "cell_type": "markdown",
   "id": "32d04fa3",
   "metadata": {},
   "source": [
    "### In short, we have an unsuccessful test case"
   ]
  }
 ],
 "metadata": {
  "kernelspec": {
   "display_name": "Python 3",
   "language": "python",
   "name": "python3"
  },
  "language_info": {
   "codemirror_mode": {
    "name": "ipython",
    "version": 3
   },
   "file_extension": ".py",
   "mimetype": "text/x-python",
   "name": "python",
   "nbconvert_exporter": "python",
   "pygments_lexer": "ipython3",
   "version": "3.8.8"
  }
 },
 "nbformat": 4,
 "nbformat_minor": 5
}
